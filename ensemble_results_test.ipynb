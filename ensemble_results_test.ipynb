{
 "metadata": {
  "language_info": {
   "codemirror_mode": {
    "name": "ipython",
    "version": 3
   },
   "file_extension": ".py",
   "mimetype": "text/x-python",
   "name": "python",
   "nbconvert_exporter": "python",
   "pygments_lexer": "ipython3",
   "version": "3.6.13"
  },
  "orig_nbformat": 2,
  "kernelspec": {
   "name": "python3613jvsc74a57bd0bb2ddb5ec7bd2bc7e1b7c6e62877b8790bd1fa53fb040f7a205ed712fd287437",
   "display_name": "Python 3.6.13 64-bit ('audio': conda)"
  },
  "metadata": {
   "interpreter": {
    "hash": "bb2ddb5ec7bd2bc7e1b7c6e62877b8790bd1fa53fb040f7a205ed712fd287437"
   }
  }
 },
 "nbformat": 4,
 "nbformat_minor": 2,
 "cells": [
  {
   "cell_type": "code",
   "execution_count": 1,
   "metadata": {},
   "outputs": [],
   "source": [
    "from matplotlib.pyplot import axis\n",
    "import numpy as np\n",
    "import torch\n",
    "import torch.nn as nn\n",
    "from scipy.stats.mstats import gmean\n",
    "\n",
    "from data_engin import Data_Engin\n",
    "from models.model import VGG_M, DCASE_PAST, DCASE_PAST2\n",
    "from fit_model import Fit_Model\n",
    "\n",
    "from tqdm.notebook import tqdm"
   ]
  },
  {
   "cell_type": "code",
   "execution_count": 2,
   "metadata": {},
   "outputs": [],
   "source": [
    "def load_model(pre_trained_model_path, network_type, no_class):\n",
    "    if network_type == 'vgg_m':\n",
    "        network = VGG_M(no_class=no_class)\n",
    "    elif network_type == 'dcase1':\n",
    "        network = DCASE_PAST(no_class=no_class)\n",
    "    elif network_type == 'dcase2':\n",
    "        network = DCASE_PAST2(no_class=no_class)\n",
    "    \n",
    "    if torch.cuda.device_count() > 1:\n",
    "      print(\"Let's use\", torch.cuda.device_count(), \"GPUs!\")\n",
    "      network = nn.DataParallel(network, device_ids=[0, 1])\n",
    "      \n",
    "    network = network.to(device)\n",
    "\n",
    "    checkpoint = torch.load(pre_trained_model_path)\n",
    "    network.load_state_dict(checkpoint['model_state_dict'])\n",
    "    \n",
    "    del checkpoint\n",
    "    torch.cuda.empty_cache()\n",
    "    \n",
    "    return network"
   ]
  },
  {
   "cell_type": "code",
   "execution_count": 3,
   "metadata": {},
   "outputs": [],
   "source": [
    "def infer(network, valid_data_engine):\n",
    "    network.eval()\n",
    "    data = valid_data_engine\n",
    "\n",
    "    correct = 0\n",
    "    total = 0\n",
    "    data.shuffle_data()\n",
    "    \n",
    "    with torch.no_grad():\n",
    "        for i in tqdm(range(data.no_batches)):  # range(valid.no_batch)\n",
    "            inputs, labels = data.mini_batch()\n",
    "            labels = labels.long()\n",
    "            outputs = network(inputs)\n",
    "\n",
    "            _, predicted = torch.max(outputs.data, 1)\n",
    "            original = labels.data\n",
    "            total += labels.size(0)\n",
    "            correct += predicted.eq(original.data).cpu().sum()\n",
    "\n",
    "            if i == 0:\n",
    "                all_predicted = predicted\n",
    "                all_targets = labels\n",
    "            else:\n",
    "                all_predicted = torch.cat((all_predicted, predicted), 0)\n",
    "                all_targets = torch.cat((all_targets, labels), 0)\n",
    "\n",
    "    acc = 100. * correct / total\n",
    "    print(\"accuracy: %0.3f\" % acc)\n",
    "\n",
    "    return acc, all_targets, all_predicted"
   ]
  },
  {
   "cell_type": "code",
   "execution_count": 4,
   "metadata": {},
   "outputs": [],
   "source": [
    "def custom_ensemble(arr, idx):\n",
    "    def max_occ(arr_1d,idx):\n",
    "        bcount = np.bincount(arr_1d)\n",
    "        if bcount.max()>1:\n",
    "            return np.argmax(bcount)\n",
    "        else:\n",
    "            return arr_1d[idx]\n",
    "    return np.apply_along_axis(max_occ, axis=1, arr=pred_arr.T, idx=int(idx))"
   ]
  },
  {
   "cell_type": "code",
   "execution_count": 5,
   "metadata": {},
   "outputs": [],
   "source": [
    "classes = ['airport', 'shopping_mall', 'metro_station', 'street_pedestrian', 'public_square', 'street_traffic', 'tram', 'bus', 'metro', 'park']\n",
    "no_class = len(classes)"
   ]
  },
  {
   "cell_type": "code",
   "execution_count": 6,
   "metadata": {},
   "outputs": [],
   "source": [
    "torch.cuda.empty_cache()\n",
    "device = torch.device('cuda:0' if torch.cuda.is_available() else 'cpu')"
   ]
  },
  {
   "cell_type": "code",
   "execution_count": 7,
   "metadata": {},
   "outputs": [],
   "source": [
    "models = [\n",
    "        {'idx' : 0,\n",
    "         'network_address' : './model_zoo/dcase_4/Epoch23-ACCtensor(59.7656).pth',\n",
    "         'method' : 'pre',\n",
    "         'mono' : 'mean',\n",
    "         'spectra_type' : 'Mel_Spectrum',\n",
    "         'batch_size' : 64,\n",
    "         'fs' : 16000,\n",
    "         'n_fft' : 1024,\n",
    "         'n_mels' : 500,\n",
    "         'network' : 'vgg_m'\n",
    "         },\n",
    "        {'idx' : 1,\n",
    "         'network_address' : './model_zoo/dcase_tests/1-ACC60.5748-vgg_m-pre-mean-64-mel500.pth',\n",
    "         'method' : 'pre',\n",
    "         'mono' : 'mean',\n",
    "         'spectra_type' : 'Mel_Spectrum',\n",
    "         'batch_size' : 64,\n",
    "         'fs' : 16000,\n",
    "         'n_fft' : 1024,\n",
    "         'n_mels' : 500,\n",
    "         'network' : 'vgg_m'\n",
    "         },\n",
    "        {'idx' : 2,\n",
    "         'network_address' : './model_zoo/dcase_tests/2-ACC60.4353-vgg_m-post-mean-64-mel500.pth',\n",
    "         'method' : 'post',\n",
    "         'mono' : 'mean',\n",
    "         'spectra_type' : 'Mel_Spectrum',\n",
    "         'batch_size' : 64,\n",
    "         'fs' : 16000,\n",
    "         'n_fft' : 1024,\n",
    "         'n_mels' : 500,\n",
    "         'network' : 'vgg_m'\n",
    "         }\n",
    "        #  {'idx' : 3,\n",
    "        #  'network_address' : './model_zoo/dcase_11/Epoch28-Acc63.739.pth',\n",
    "        #  'method' : 'pre',\n",
    "        #  'mono' : 'mean',\n",
    "        #  'spectra_type' : 'Mel_Spectrum',\n",
    "        #  'batch_size' : 64,\n",
    "        #  'fs' : 16000,\n",
    "        #  'n_fft' : 1024,\n",
    "        #  'n_mels' : 500,\n",
    "        #  'network' : 'vgg_m'\n",
    "        #  }\n",
    "    ]\n",
    "    "
   ]
  },
  {
   "cell_type": "code",
   "execution_count": 8,
   "metadata": {},
   "outputs": [
    {
     "output_type": "stream",
     "name": "stdout",
     "text": [
      "idx: 0\n",
      "/home/audio_server1/miniconda3/envs/audio/lib/python3.6/site-packages/torchaudio/functional/functional.py:358: UserWarning: At least one mel filterbank has all zero values. The value for `n_mels` (500) may be set too high. Or, the value for `n_freqs` (513) may be set too low.\n",
      "  \"At least one mel filterbank has all zero values. \"\n",
      "Let's use 2 GPUs!\n"
     ]
    },
    {
     "output_type": "display_data",
     "data": {
      "text/plain": "  0%|          | 0/56 [00:00<?, ?it/s]",
      "application/vnd.jupyter.widget-view+json": {
       "version_major": 2,
       "version_minor": 0,
       "model_id": "16693016e97644aca9bcb864f994bf53"
      }
     },
     "metadata": {}
    },
    {
     "output_type": "stream",
     "name": "stdout",
     "text": [
      "accuracy: 58.426\nidx: 1\nLet's use 2 GPUs!\n"
     ]
    },
    {
     "output_type": "display_data",
     "data": {
      "text/plain": "  0%|          | 0/56 [00:00<?, ?it/s]",
      "application/vnd.jupyter.widget-view+json": {
       "version_major": 2,
       "version_minor": 0,
       "model_id": "51e64069e3064bf4ba9339648381e2a1"
      }
     },
     "metadata": {}
    },
    {
     "output_type": "stream",
     "name": "stdout",
     "text": [
      "accuracy: 58.147\nidx: 2\nLet's use 2 GPUs!\n"
     ]
    },
    {
     "output_type": "display_data",
     "data": {
      "text/plain": "  0%|          | 0/56 [00:00<?, ?it/s]",
      "application/vnd.jupyter.widget-view+json": {
       "version_major": 2,
       "version_minor": 0,
       "model_id": "1b5feec7d3ab445f9cc8ac617b639551"
      }
     },
     "metadata": {}
    },
    {
     "output_type": "stream",
     "name": "stdout",
     "text": [
      "accuracy: 57.645\n"
     ]
    }
   ],
   "source": [
    "acc = dict()\n",
    "target = dict()\n",
    "prediction = dict()\n",
    "\n",
    "for model in models:\n",
    "    torch.cuda.empty_cache()\n",
    "    \n",
    "    idx = str(model['idx'])\n",
    "    print('idx:', idx)\n",
    "    \n",
    "    test = Data_Engin(method=model['method'], mono=model['mono'],\n",
    "                        address='./dataset/dcase/evaluation_setup/modify_evaluate.csv',\n",
    "                        spectra_type=model['spectra_type'],\n",
    "                        device=device, batch_size=model['batch_size'],\n",
    "                        fs=model['fs'], n_fft=model['n_fft'], n_mels=model['n_mels'])\n",
    "\n",
    "    network = load_model(model['network_address'],\n",
    "                        network_type=model['network'],\n",
    "                        no_class=no_class)\n",
    "\n",
    "\n",
    "    acc[idx], target[idx], prediction[idx] = infer(network=network, valid_data_engine=test)"
   ]
  },
  {
   "cell_type": "code",
   "execution_count": 9,
   "metadata": {},
   "outputs": [
    {
     "output_type": "stream",
     "name": "stdout",
     "text": [
      "tensor([4, 5, 3, 2, 6, 9, 6, 8, 0, 5], device='cuda:0')\ntensor([4, 2, 3, 8, 4, 5, 8, 1, 5, 4], device='cuda:0')\ntensor([4, 3, 3, 8, 7, 9, 4, 4, 7, 8], device='cuda:0')\n"
     ]
    }
   ],
   "source": [
    "for item in prediction.values():\n",
    "    print(item[:10])"
   ]
  },
  {
   "cell_type": "code",
   "execution_count": 10,
   "metadata": {},
   "outputs": [
    {
     "output_type": "execute_result",
     "data": {
      "text/plain": [
       "array([4, 5, 3, 8, 6, 9, 6, 8, 0, 5])"
      ]
     },
     "metadata": {},
     "execution_count": 10
    }
   ],
   "source": [
    "pred_arr = np.array([item.detach().cpu().numpy() for item in prediction.values()])\n",
    "\n",
    "ensemble_prediction = custom_ensemble(pred_arr.T, int(max(acc, key=acc.get)))\n",
    "\n",
    "# ensemble_prediction = gmean(pred_arr, axis=0)\n",
    "# ensemble_prediction = np.around(ensemble_prediction)\n",
    "# ensemble_prediction -= 1\n",
    "\n",
    "ensemble_prediction[:10]"
   ]
  },
  {
   "cell_type": "code",
   "execution_count": 11,
   "metadata": {},
   "outputs": [
    {
     "output_type": "stream",
     "name": "stdout",
     "text": [
      "Model Accuracies:\ndict_items([('0', tensor(58.4263)), ('1', tensor(58.1473)), ('2', tensor(57.6451))])\nFinal Accuracy: 53.7109375\n"
     ]
    }
   ],
   "source": [
    "target_val = target['0'].detach().cpu().clone()\n",
    "ensemble_prediction = torch.as_tensor(ensemble_prediction).cpu()\n",
    "\n",
    "crt = ensemble_prediction.eq(target_val).cpu().sum()\n",
    "accuracy = 100. * crt / target_val.size(0)\n",
    "print(f'Model Accuracies:\\n{acc.items()}')\n",
    "print('Final Accuracy:', float(accuracy))"
   ]
  }
 ]
}